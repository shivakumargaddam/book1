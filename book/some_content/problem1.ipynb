{
 "cells": [
  {
   "cell_type": "markdown",
   "metadata": {},
   "source": [
    "# Elongation of a tapered bar under axial load\n",
    "![Illustraion of a tapered bar](./images/Tapered-Bar.jpg)  \n",
    "given $d_1=10$ cm, $d_2=5$ cm, $P=10$ kN, $L=50$ cm, $E=200$ GPa"
   ]
  },
  {
   "cell_type": "markdown",
   "metadata": {},
   "source": [
    "The force acting on the nodes 1,2 of a spring element  \n",
    "$$\\sigma=E\\epsilon \\implies \\frac{f_i}{A_j}=E\\frac{u_i-u_{i\\pm1}}{l_o} \\implies f_1 = \\frac{EA_j}{l_o} (u_1-u_2),\\ f_2 = \\frac{EA_j}{l_o} (u_2-u_1)$$  \n",
    "where $i=1, 2$ ; $j$ are the indices of nodes and elements respectively. $l_o$ is the length of the element.  \n",
    "\n",
    "The system of equations for a spring element:  \n",
    "$$\\frac{EAel}{l_o} \\begin{bmatrix} 1 & -1 \\\\ -1 & 1 \\end{bmatrix} \\begin{Bmatrix} u_1 \\\\ u_2 \\end{Bmatrix} = \\begin{Bmatrix} f_1 \\\\ f_2 \\end{Bmatrix} $$\n",
    "\n",
    "The analytical solution:  \n",
    "$$u(x)=\\frac{4P}{\\pi E} \\times \\frac{xL}{Ld_1^2-(d_1-d_2)xd_1}$$"
   ]
  },
  {
   "cell_type": "code",
   "execution_count": 41,
   "metadata": {},
   "outputs": [],
   "source": [
    "import numpy as np\n",
    "import matplotlib.pyplot as plt\n",
    "import math\n",
    "import ipywidgets as widgets\n",
    "from ipywidgets import interact\n",
    "plt.rcParams['figure.figsize']=(7,7)\n",
    "plt.rcParams.update({'font.size': 13})"
   ]
  },
  {
   "cell_type": "markdown",
   "metadata": {},
   "source": [
    "## Input Variables"
   ]
  },
  {
   "cell_type": "code",
   "execution_count": 42,
   "metadata": {},
   "outputs": [],
   "source": [
    "E = 200e3 #MPa\n",
    "P = 10e3 #Newtons\n",
    "d1= 10e1 #mm\n",
    "d2 = 5e1 #mm\n",
    "L = 50e1 #mm"
   ]
  },
  {
   "cell_type": "code",
   "execution_count": 43,
   "metadata": {},
   "outputs": [],
   "source": [
    "def ana_sol(x): return (4*P/math.pi/E)*(x*L/(L*d1**2-(d1-d2)*x*d1))\n",
    "u_ana = np.vectorize(ana_sol)\n",
    "\n",
    "def get_dia(iel, xpoints):\n",
    "   position = (xpoints[iel]+xpoints[iel-1])/2\n",
    "   dia = ((d2-d1)/L)*(position) + d1\n",
    "   return dia\n",
    "\n",
    "def get_kf(dia, nele):\n",
    "   l_o = L/nele\n",
    "   # element stiffness matrix\n",
    "   k = (E*(math.pi/4*dia**2)/l_o)*np.array([[1, -1], [-1, 1]])\n",
    "   # element load vector\n",
    "   f = np.array([[-P],[P]])\n",
    "   return k, f"
   ]
  },
  {
   "cell_type": "code",
   "execution_count": 44,
   "metadata": {},
   "outputs": [],
   "source": [
    "def plot_deformation(nele):\n",
    "   xpoints = np.linspace(0,L,nele+1)\n",
    "   # Define global stiffness matrix and global load vector\n",
    "   K = np.zeros([nele+1,nele+1])\n",
    "   F = np.zeros([nele+1,1])\n",
    "   u = np.zeros([nele+1,1])\n",
    "\n",
    "   # estimate global stiffness matrix and global load vector\n",
    "   for iel in np.arange(1,nele+1):\n",
    "      dia = get_dia(iel, xpoints)\n",
    "      k,f = get_kf(dia, nele)\n",
    "      K[iel-1:iel+1,iel-1:iel+1] += k\n",
    "      F[iel-1:iel+1] += f\n",
    "\n",
    "   u_sol = np.linalg.solve(K[1:,1:],F[1:])\n",
    "   u[1:] = u_sol\n",
    "\n",
    "   # Plotting the results\n",
    "   xpoints_con = np.linspace(0,L,200)\n",
    "   plt.plot(xpoints_con, u_ana(xpoints_con), linewidth=1, label='analytical')\n",
    "   plt.plot(xpoints, u, 'o:r', mfc = 'none', label='FEM')\n",
    "   plt.title(\"Tapered bar: displacement at 'x'\")\n",
    "   plt.xlabel('x')\n",
    "   plt.ylabel('u')\n",
    "   plt.ylim(0,8e-3)\n",
    "   plt.xlim(0,510)\n",
    "   plt.legend(loc='upper right')\n",
    "   print(\"Elongation of the tapered bar is: %15.12f mm.\" % (u_sol[-1].item()))\n",
    "   print(\"Anaylitical solution is: %14.12f mm.\" % (P*L/(math.pi/4*d1*d2*E)))"
   ]
  },
  {
   "cell_type": "code",
   "execution_count": 59,
   "metadata": {},
   "outputs": [
    {
     "data": {
      "application/vnd.jupyter.widget-view+json": {
       "model_id": "84be35df96aa449fab59bc9ef3f19a79",
       "version_major": 2,
       "version_minor": 0
      },
      "text/plain": [
       "interactive(children=(IntSlider(value=20, description='No. of Elements:', layout=Layout(width='600px'), max=50…"
      ]
     },
     "metadata": {},
     "output_type": "display_data"
    },
    {
     "data": {
      "text/plain": [
       "<function __main__.plot_deformation(nele)>"
      ]
     },
     "execution_count": 59,
     "metadata": {},
     "output_type": "execute_result"
    }
   ],
   "source": [
    "# Define a slider with layout options to change its physical length\n",
    "slider = widgets.IntSlider(\n",
    "   value=20,  # Default value\n",
    "   min=1,     # Minimum value\n",
    "   max=50,   # Maximum value\n",
    "   step=1,    # Step size\n",
    "   description='No. of Elements:',\n",
    "   continuous_update=True,  # Update only after user finishes\n",
    "   orientation='horizontal',  # Horizontal slider\n",
    "   readout=True,  # Show the value\n",
    "   readout_format='d',  # Round the output to integer\n",
    "   layout=widgets.Layout(width='600px')  # Adjust the length here\n",
    ")\n",
    "interact(plot_deformation, nele=slider)"
   ]
  }
 ],
 "metadata": {
  "kernelspec": {
   "display_name": "Python 3",
   "language": "python",
   "name": "python3"
  },
  "language_info": {
   "codemirror_mode": {
    "name": "ipython",
    "version": 3
   },
   "file_extension": ".py",
   "mimetype": "text/x-python",
   "name": "python",
   "nbconvert_exporter": "python",
   "pygments_lexer": "ipython3",
   "version": "3.12.0"
  }
 },
 "nbformat": 4,
 "nbformat_minor": 2
}
